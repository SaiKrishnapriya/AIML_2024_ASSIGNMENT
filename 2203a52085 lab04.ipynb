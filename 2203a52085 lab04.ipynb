{
 "cells": [
  {
   "cell_type": "code",
   "execution_count": 11,
   "metadata": {},
   "outputs": [
    {
     "name": "stdout",
     "output_type": "stream",
     "text": [
      "Optimal move value: 4\n"
     ]
    }
   ],
   "source": [
    "import math\n",
    "\n",
    "# Define the tree structure\n",
    "tree = {\n",
    "    'A': ['B', 'C'],\n",
    "    'B': ['D', 'E'],\n",
    "    'C': ['F', 'G'],\n",
    "    'D': ['H', 'I'],\n",
    "    'E': ['J', 'K'],\n",
    "    'F': ['L', 'M'],\n",
    "    'G': ['N', 'O']\n",
    "}\n",
    "\n",
    "# Define terminal node values\n",
    "terminal_values = {\n",
    "    'H': -1, 'I': 4, 'J': 2, 'K': 6,\n",
    "    'L': -3, 'M': -5, 'N': 0, 'O': 7\n",
    "}\n",
    "\n",
    "def min_max(node, maximizing_player):\n",
    "    if node in terminal_values:\n",
    "        return terminal_values[node]\n",
    "    \n",
    "    if maximizing_player:\n",
    "        max_eval = -math.inf\n",
    "        for child in tree[node]:\n",
    "            eval = min_max(child, False)\n",
    "            max_eval = max(max_eval, eval)\n",
    "        return max_eval\n",
    "    else:\n",
    "        min_eval = math.inf\n",
    "        for child in tree[node]:\n",
    "            eval = min_max(child, True)\n",
    "            min_eval = min(min_eval, eval)\n",
    "        return min_eval\n",
    "\n",
    "# Starting from the root node 'A'\n",
    "result = min_max('A', True)\n",
    "print(\"Optimal move value:\", result)"
   ]
  },
  {
   "cell_type": "code",
   "execution_count": 12,
   "metadata": {},
   "outputs": [
    {
     "name": "stdout",
     "output_type": "stream",
     "text": [
      "The optimal value is : 4\n"
     ]
    }
   ],
   "source": [
    "import math\n",
    "\n",
    "def alpha_beta_pruning(depth, node_index, alpha, beta, maximizing_player, values):\n",
    "    if depth == 3:\n",
    "        return values[node_index]\n",
    "\n",
    "    if maximizing_player:\n",
    "        max_eval = -math.inf\n",
    "        for i in range(2):\n",
    "            eval = alpha_beta_pruning(depth + 1, node_index * 2 + i, alpha, beta, False, values)\n",
    "            max_eval = max(max_eval, eval)\n",
    "            alpha = max(alpha, eval)\n",
    "            if beta <= alpha:\n",
    "                break\n",
    "        return max_eval\n",
    "    else:\n",
    "        min_eval = math.inf\n",
    "        for i in range(2):\n",
    "            eval = alpha_beta_pruning(depth + 1, node_index * 2 + i, alpha, beta, True, values)\n",
    "            min_eval = min(min_eval, eval)\n",
    "            beta = min(beta, eval)\n",
    "            if beta <= alpha:\n",
    "                break\n",
    "        return min_eval\n",
    "\n",
    "values = [-1, 4, 2, 6, -3, -5, 0, 7]\n",
    "print(\"The optimal value is :\", alpha_beta_pruning(0, 0, -math.inf, math.inf, True, values))"
   ]
  }
 ],
 "metadata": {
  "kernelspec": {
   "display_name": "Python 3",
   "language": "python",
   "name": "python3"
  },
  "language_info": {
   "codemirror_mode": {
    "name": "ipython",
    "version": 3
   },
   "file_extension": ".py",
   "mimetype": "text/x-python",
   "name": "python",
   "nbconvert_exporter": "python",
   "pygments_lexer": "ipython3",
   "version": "3.10.13"
  }
 },
 "nbformat": 4,
 "nbformat_minor": 2
}
